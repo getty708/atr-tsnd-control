{
 "cells": [
  {
   "cell_type": "markdown",
   "id": "45574096-5a20-4a7e-a907-9a9887a83031",
   "metadata": {},
   "source": [
    "# Dev | DownloadしたLogデータの解析"
   ]
  },
  {
   "cell_type": "markdown",
   "id": "79ec9ab3-8e15-4c8f-829b-41b68f5b0429",
   "metadata": {},
   "source": [
    "## Step.1: Logファイルの読み込み"
   ]
  },
  {
   "cell_type": "markdown",
   "id": "2eed35a4-3b92-4798-8099-acfd1848a129",
   "metadata": {},
   "source": [
    "- Entry 3 ... 30秒計測"
   ]
  },
  {
   "cell_type": "markdown",
   "id": "5d05a1e9-14d2-4105-8df3-26f420f81d31",
   "metadata": {},
   "source": [
    "### ライブラリの関数を用いた読み出し"
   ]
  },
  {
   "cell_type": "code",
   "execution_count": 1,
   "id": "59ea4dd7-a1ec-4485-98ba-63a186f9b548",
   "metadata": {},
   "outputs": [
    {
     "name": "stderr",
     "output_type": "stream",
     "text": [
      "/Users/yoshimuranaoya/Library/Caches/pypoetry/virtualenvs/atr-tk-bulQapkh-py3.9/lib/python3.9/site-packages/pandas/compat/__init__.py:124: UserWarning: Could not import the lzma module. Your installed Python is incomplete. Attempting to use lzma compression will result in a RuntimeError.\n",
      "  warnings.warn(msg)\n"
     ]
    }
   ],
   "source": [
    "from pathlib import Path\n",
    "import numpy as np\n",
    "import pandas as pd\n",
    "import json\n",
    "\n",
    "import sys\n",
    "sys.path.append(\"../\")\n",
    "from tsndctl.postprocessing import parse_logfile"
   ]
  },
  {
   "cell_type": "code",
   "execution_count": 9,
   "id": "be0d2171-21dc-4eb5-b381-daae5aa9cfdb",
   "metadata": {},
   "outputs": [],
   "source": [
    "device = \"ATR01\"\n",
    "logdate = \"2021-10-17/17-18-04\"\n",
    "logfile = Path(\"../outputs\", device, logdate, \"download.log\")"
   ]
  },
  {
   "cell_type": "code",
   "execution_count": 10,
   "id": "b4e5682d-8e6e-41da-9d25-b6ab253399e6",
   "metadata": {},
   "outputs": [],
   "source": [
    "(metadata, df_ags, messages), summary = parse_logfile(logfile)"
   ]
  },
  {
   "cell_type": "code",
   "execution_count": 11,
   "id": "80414856-f60e-4f85-b2bd-62cb6869bb83",
   "metadata": {},
   "outputs": [
    {
     "data": {
      "text/plain": [
       "{'records': 1804,\n",
       " 'ags_expected': 902,\n",
       " 'ags': 836,\n",
       " 'messages': 98,\n",
       " 'warnings': 90,\n",
       " 'error_rates': 0.07317073170731703,\n",
       " 'duration': 29.733}"
      ]
     },
     "execution_count": 11,
     "metadata": {},
     "output_type": "execute_result"
    }
   ],
   "source": [
    "summary"
   ]
  },
  {
   "cell_type": "code",
   "execution_count": 12,
   "id": "52051205-bba9-45ed-a5f3-b59e3c05df62",
   "metadata": {},
   "outputs": [
    {
     "data": {
      "text/plain": [
       "{'MemEntryCount': [{'status': 0, 'num_entry': 3}],\n",
       " 'FreeMemSize': [{'status': 0,\n",
       "   'num_free_entries': 77,\n",
       "   'num_free_records': 4289724493}],\n",
       " 'ReadMemDataCtl': [{'mode': 'start', 'entry': 3, 'type': 'meta-data'},\n",
       "  {'mode': 'start', 'entry': 3, 'type': 'body'},\n",
       "  {'mode': 'stop', 'entry': 3},\n",
       "  {'mode': 'end', 'entry': 3}],\n",
       " 'EntryInfo': [{'status': 0,\n",
       "   'ts_start': '2011-10-17 16-21-04.730000',\n",
       "   'num_records': 1804,\n",
       "   'ags_interval': 33,\n",
       "   'geo_interval': 0,\n",
       "   'pres_interval': 0,\n",
       "   'ext_interval': 0,\n",
       "   'i2c_interval': 0,\n",
       "   'ags_record_freq': 1,\n",
       "   'geo_record_freq': 0,\n",
       "   'pres_record_freq': 0,\n",
       "   'batt_record_freq': 0,\n",
       "   'ext_record_freq': 0,\n",
       "   'i2c_record_freq': 0,\n",
       "   'edge_event': 0,\n",
       "   'entry_index': 3}],\n",
       " 'EntryDetail': [{'status': 0,\n",
       "   'acc_range': 0,\n",
       "   'acc_target_x': 0,\n",
       "   'acc_target_y': 0,\n",
       "   'acc_target_z': 0,\n",
       "   'acc_offset_x': 0,\n",
       "   'acc_offset_y': 0,\n",
       "   'acc_offset_z': 0,\n",
       "   'gyro_range': 0,\n",
       "   'gyro_target_x': 0,\n",
       "   'gyro_target_y': 0,\n",
       "   'gyro_target_z': 0,\n",
       "   'gyro_offset_x': 0,\n",
       "   'gyro_offset_y': 0,\n",
       "   'gyro_offset_z': 0,\n",
       "   'geo_callibration_x': 0,\n",
       "   'geo_callibration_y': 0,\n",
       "   'geo_callibration_z': 0,\n",
       "   'I2C_comm_speed': 0,\n",
       "   'I2C_slave': 0,\n",
       "   'I2C_send_data_size': 0,\n",
       "   'I2C_send_data': [0, 0, 0, 0, 0, 0, 0, 0],\n",
       "   'I2C_recv_data_size': 0,\n",
       "   'I2C_mode_ch1': 0,\n",
       "   'I2C_mode_ch2': 0,\n",
       "   'I2C_mode_ch3': 0,\n",
       "   'I2C_mode_ch4': 0,\n",
       "   'entry_index': 3}]}"
      ]
     },
     "execution_count": 12,
     "metadata": {},
     "output_type": "execute_result"
    }
   ],
   "source": [
    "metadata"
   ]
  },
  {
   "cell_type": "code",
   "execution_count": 13,
   "id": "79dcf85e-011f-4865-a017-1d72499ccbd3",
   "metadata": {},
   "outputs": [
    {
     "data": {
      "text/plain": [
       "[\"[2021-10-17 17:18:04,963][__main__][INFO] - == Download Data in Device's Memory ==\",\n",
       " '[2021-10-17 17:18:13,518][__main__][DEBUG] - Success ... Initialize TSND151() object and open connection.',\n",
       " '[2021-10-17 17:18:13,518][tsndctl.TSND151.ATR01][INFO] - == Check Memory Status ==',\n",
       " '[2021-10-17 17:18:23,505][tsndctl.TSND151.ATR01][INFO] - == Read Mem Data ==',\n",
       " '[2021-10-17 17:18:23,507][tsndctl.TSND151.ATR01][INFO] - == Meta Data [Entry. 3] ==',\n",
       " '[2021-10-17 17:18:25,704][tsndctl.TSND151.ATR01][INFO] - == Body [Entry. 3] ==',\n",
       " \"[2021-10-17 17:18:26,184][tsndctl.TSND151.ATR01][WARNING] - BrokenResponseMsg (response=b'\\\\x00%\\\\x1d\\\\x00\\\\x93\\\\xc0\\\\xff<7\\\\x00%\\\\xf5\\\\xff\\\\xdf')\",\n",
       " \"[2021-10-17 17:18:26,249][tsndctl.TSND151.ATR01][WARNING] - BrokenResponseMsg (response=b'\\\\x00t')\",\n",
       " '[2021-10-17 17:18:26,251][tsndctl.TSND151.ATR01][WARNING] - Unknown Response (response=b\"\\\\x9a\\\\x05\\\\x00\\\\x12\\\\x06\\\\x00)\\'\\\\x00\\\\xbe\\\\x01\\\\x00n\\\\xfc\\\\xff\\\\x93\\\\x00\\\\x00\\\\x01\")',\n",
       " \"[2021-10-17 17:18:26,387][tsndctl.TSND151.ATR01][WARNING] - BrokenResponseMsg (response=b'\\\\x01\\\\x00\\\\xc7\\\\xff\\\\xffN\\\\x00\\\\x00\\\\xfe')\",\n",
       " \"[2021-10-17 17:18:26,388][tsndctl.TSND151.ATR01][WARNING] - Unknown Response (response=b'\\\\x9a\\\\xfe\\\\xff\\\\xe9\\\\xff\\\\xff\\\\x0b')\",\n",
       " '[2021-10-17 17:18:26,450][tsndctl.TSND151.ATR01][WARNING] - BrokenResponseMsg (response=b\\'\\\\x00\\\\x00\"\\\\x00\\\\x000\\\\xff\\\\xff\\\\x93\\')',\n",
       " '[2021-10-17 17:18:26,450][tsndctl.TSND151.ATR01][WARNING] - Unknown Response (response=b\"\\\\x9a\\\\x06\\\\x00\\\\x1e\\\\x06\\\\x00\\\\x0e\\'\\\\x00\\\\xde\\\\xff\\\\xffO\\\\x00\\\\x00\\\\t\\\\xff\\\\xff\\\\xb1\")',\n",
       " \"[2021-10-17 17:18:26,453][tsndctl.TSND151.ATR01][WARNING] - BrokenResponseMsg (response=b'\\\\x00\\\\x00X')\",\n",
       " \"[2021-10-17 17:18:26,640][tsndctl.TSND151.ATR01][WARNING] - BrokenResponseMsg (response=b'=\\\\x82\\\\x03(\\\\x06\\\\x00\\\\xed\\\\x05\\\\x00\\\\xe2&\\\\x00\\\\\\\\\\\\x00\\\\x00w\\\\x00\\\\x00')\",\n",
       " \"[2021-10-17 17:18:26,640][tsndctl.TSND151.ATR01][WARNING] - Unknown Response (response=b'\\\\x9a\\\\xff\\\\xff\\\\x1f')\",\n",
       " \"[2021-10-17 17:18:26,641][tsndctl.TSND151.ATR01][WARNING] - Unknown Response (response=b'\\\\x9a\\\\xff\\\\xffc')\",\n",
       " \"[2021-10-17 17:18:27,645][tsndctl.TSND151.ATR01][WARNING] - BrokenResponseMsg (response=b'\\\\x00\\\\x00\\\\xac')\",\n",
       " \"[2021-10-17 17:18:27,653][tsndctl.TSND151.ATR01][WARNING] - Unknown Response (response=b'\\\\x9a\\\\x00\\\\x00\\\\x14\\\\x00\\\\x009')\",\n",
       " \"[2021-10-17 17:18:27,776][tsndctl.TSND151.ATR01][WARNING] - BrokenResponseMsg (response=b'\\\\x00\\\\x00\\\\xf8\\\\xff\\\\xffV\\\\xfe\\\\xff\\\\xfe')\",\n",
       " \"[2021-10-17 17:18:27,782][tsndctl.TSND151.ATR01][WARNING] - BrokenResponseMsg (response=b'\\\\x00{&\\\\x00\\\\x1c\\\\x07\\\\x00[\\\\xfa\\\\xff&\\\\xff\\\\xff.')\",\n",
       " \"[2021-10-17 17:18:27,783][tsndctl.TSND151.ATR01][WARNING] - BrokenResponseMsg (response=b'\\\\x00\\\\xf2$\\\\x00)\\\\x05\\\\x00\\\\xc0\\\\xfb\\\\xff\\\\xeb\\\\xff\\\\xff`')\",\n",
       " \"[2021-10-17 17:18:27,785][tsndctl.TSND151.ATR01][WARNING] - BrokenResponseMsg (response=b'\\\\x00M&\\\\x00\\\\xc8\\\\x00\\\\x00\\\\x95\\\\xfe\\\\xff\\\\xdf\\\\x00\\\\x009')\",\n",
       " \"[2021-10-17 17:18:27,838][tsndctl.TSND151.ATR01][WARNING] - BrokenResponseMsg (response=b'\\\\x00~%\\\\x00\\\\xc3\\\\xff\\\\xff\\\\xa7\\\\xff\\\\xff;\\\\x01\\\\x00\\\\x92')\",\n",
       " \"[2021-10-17 17:18:27,839][tsndctl.TSND151.ATR01][WARNING] - Unknown Response (response=b'\\\\x9a\\\\xff\\\\xff3')\",\n",
       " \"[2021-10-17 17:18:27,840][tsndctl.TSND151.ATR01][WARNING] - BrokenResponseMsg (response=b'\\\\x00\\\\x0b%\\\\x00\\\\xc4\\\\xff\\\\xff\\\\xae\\\\x01\\\\x004\\\\xfe\\\\xff\\\\xad')\",\n",
       " \"[2021-10-17 17:18:27,842][tsndctl.TSND151.ATR01][WARNING] - BrokenResponseMsg (response=b'\\\\x00\\\\xf1\\\\t\\\\x00\\\\xc4%\\\\x00\\\\x07\\\\x00\\\\x00e\\\\x01\\\\x00[\\\\xff\\\\xff/')\",\n",
       " \"[2021-10-17 17:18:27,990][tsndctl.TSND151.ATR01][WARNING] - BrokenResponseMsg (response=b'\\\\x00a\\\\x08\\\\x00\\\\x9b$\\\\x00\\\\xe2\\\\x02\\\\x00')\",\n",
       " \"[2021-10-17 17:18:27,991][tsndctl.TSND151.ATR01][WARNING] - Unknown Response (response=b'\\\\x9a\\\\xfd\\\\xffh\\\\xfb\\\\xff\\\\x8e')\",\n",
       " \"[2021-10-17 17:18:27,991][tsndctl.TSND151.ATR01][WARNING] - BrokenResponseMsg (response=b'\\\\x00\\\\xbd$\\\\x00-\\\\x00\\\\x00t\\\\x00\\\\x00]\\\\xfd\\\\xff^')\",\n",
       " \"[2021-10-17 17:18:27,992][tsndctl.TSND151.ATR01][WARNING] - BrokenResponseMsg (response=b'\\\\x00H&\\\\x00=\\\\xfd\\\\xff&\\\\x03\\\\x00\\\\x17\\\\xfe\\\\xff\\\\x02')\",\n",
       " \"[2021-10-17 17:18:27,993][tsndctl.TSND151.ATR01][WARNING] - BrokenResponseMsg (response=b'\\\\x00>&\\\\x00\\\\xc2\\\\xfd\\\\xffs\\\\x02\\\\x003\\\\xfe\\\\xff\\\\xd0')\",\n",
       " \"[2021-10-17 17:18:27,994][tsndctl.TSND151.ATR01][WARNING] - BrokenResponseMsg (response=b'\\\\x00C%\\\\x00N\\\\xfd\\\\xff\\\\xd9\\\\x01\\\\x00{\\\\xff\\\\xff\\\\x98')\",\n",
       " \"[2021-10-17 17:18:27,996][tsndctl.TSND151.ATR01][WARNING] - BrokenResponseMsg (response=b'\\\\x00\\\\xa2%\\\\x00\\\\xf8\\\\xfb\\\\xff\\\\xe9\\\\x03\\\\x00\\\\xc7\\\\x00\\\\x00\\\\x00')\",\n",
       " \"[2021-10-17 17:18:27,997][tsndctl.TSND151.ATR01][WARNING] - BrokenResponseMsg (response=b'\\\\xff\\\\xff\\\\x81')\",\n",
       " \"[2021-10-17 17:18:28,000][tsndctl.TSND151.ATR01][WARNING] - BrokenResponseMsg (response=b'\\\\x00\\\\x8b\\\\t\\\\x00\\\\xeb%\\\\x00\\\\x14\\\\x00\\\\x00\\\\x02\\\\x01\\\\x00\\\\x98\\\\xff\\\\xff\\\\x8c')\",\n",
       " \"[2021-10-17 17:18:28,001][tsndctl.TSND151.ATR01][WARNING] - BrokenResponseMsg (response=b'\\\\x00\\\\x04&\\\\x00S\\\\x01\\\\x003\\\\xff\\\\xffZ\\\\xfd\\\\xffx')\",\n",
       " \"[2021-10-17 17:18:28,125][tsndctl.TSND151.ATR01][WARNING] - BrokenResponseMsg (response=b'\\\\x000&\\\\x003\\\\xff\\\\xff\\\\xbc\\\\xff\\\\xff')\",\n",
       " \"[2021-10-17 17:18:28,125][tsndctl.TSND151.ATR01][WARNING] - Unknown Response (response=b'\\\\x9a\\\\xfd\\\\xff\\\\x87')\",\n",
       " \"[2021-10-17 17:18:28,127][tsndctl.TSND151.ATR01][WARNING] - BrokenResponseMsg (response=b'\\\\x00+&\\\\x00\\\\x03\\\\x00\\\\x003\\\\x00\\\\x00\\\\x02\\\\xfe\\\\xffe')\",\n",
       " \"[2021-10-17 17:18:28,664][tsndctl.TSND151.ATR01][WARNING] - BrokenResponseMsg (response=b'\\\\x00E%\\\\x00\\\\x01\\\\xfd\\\\xffp\\\\x02\\\\x00\\\\x07\\\\xff\\\\xff?')\",\n",
       " \"[2021-10-17 17:18:28,671][tsndctl.TSND151.ATR01][WARNING] - Unknown Response (response=b'\\\\x9aO\\\\x82\\\\x03\\\\xbd\\\\x08\\\\x00\\\\x99\\\\x08\\\\x00^&\\\\x00V\\\\x01\\\\x00F\\\\xfe\\\\xff\\\\x87\\\\xff\\\\xff\\\\x85')\",\n",
       " \"[2021-10-17 17:18:28,672][tsndctl.TSND151.ATR01][WARNING] - Unknown Response (response=b'\\\\x9a\\\\x01\\\\x00\\\\xbb\\\\xff\\\\xffg\\\\xff\\\\xffu')\",\n",
       " \"[2021-10-17 17:18:28,801][tsndctl.TSND151.ATR01][WARNING] - BrokenResponseMsg (response=b'\\\\x00~%\\\\x00\\\\x8c\\\\xfd\\\\xff\\\\xa9\\\\x02\\\\x00\\\\xcb\\\\xff\\\\xff\\\\xff')\",\n",
       " \"[2021-10-17 17:18:29,233][tsndctl.TSND151.ATR01][WARNING] - ShortResponseMsg (response=b'\\\\x9a')\",\n",
       " '[2021-10-17 17:18:29,240][tsndctl.TSND151.ATR01][WARNING] - BrokenResponseMsg (response=b\"^\\\\x82\\\\x03\\\\x93\\\\x07\\\\x00\\\\x9e\\\\x08\\\\x00<\\'\\\\x00\\\\xcf\\\\xff\\\\xff\\\\xc0\\\\x00\\\\x00\\\\x0b\\\\x00\\\\x00\\\\xd2\")',\n",
       " \"[2021-10-17 17:18:30,324][tsndctl.TSND151.ATR01][WARNING] - BrokenResponseMsg (response=b'\\\\x00\\\\x00@')\",\n",
       " \"[2021-10-17 17:18:30,333][tsndctl.TSND151.ATR01][WARNING] - Unknown Response (response=b'\\\\x9a\\\\x00\\\\x00\\\\xed\\\\xff\\\\xff<')\",\n",
       " \"[2021-10-17 17:18:30,337][tsndctl.TSND151.ATR01][WARNING] - Unknown Response (response=b'\\\\x9ap\\\\x82\\\\x03!\\\\x08\\\\x00\\\\x83\\\\x08\\\\x00\\\\xd3&\\\\x00P\\\\x00\\\\x00Q\\\\x00\\\\x00\\\\xdd\\\\xff\\\\xff\\\\xfa')\",\n",
       " \"[2021-10-17 17:18:30,420][tsndctl.TSND151.ATR01][WARNING] - BrokenResponseMsg (response=b'\\\\x00\\\\x00m\\\\x00\\\\x00\\\\xf7')\",\n",
       " \"[2021-10-17 17:18:30,598][tsndctl.TSND151.ATR01][WARNING] - BrokenResponseMsg (response=b'\\\\x00x\\\\x0b\\\\x00\\\\xd5%\\\\x00\\\\xbf\\\\x0b\\\\x00f\\\\x13\\\\x00\\\\xba\\\\x0c\\\\x00\\\\x18')\",\n",
       " \"[2021-10-17 17:18:30,600][tsndctl.TSND151.ATR01][WARNING] - BrokenResponseMsg (response=b'\\\\x00(&\\\\x00\\\\xf1\\\\x0c\\\\x00\\\\xd2\\\\xfd\\\\xff3\\\\x10\\\\x00\\\\x96')\",\n",
       " \"[2021-10-17 17:18:30,603][tsndctl.TSND151.ATR01][WARNING] - BrokenResponseMsg (response=b'\\\\x008\\\\x03\\\\x00s\\\\x0f\\\\x00\\\\xc4')\",\n",
       " \"[2021-10-17 17:18:30,605][tsndctl.TSND151.ATR01][WARNING] - BrokenResponseMsg (response=b'\\\\x00\\\\xc1\\\\xc7\\\\xffc\\\\xf9\\\\xff\\\\x17')\",\n",
       " \"[2021-10-17 17:18:30,608][tsndctl.TSND151.ATR01][WARNING] - BrokenResponseMsg (response=b'\\\\x001\\\\x1b\\\\x00[\\\\xd6\\\\xff\\\\x9c\\\\xd4\\\\xff\\\\xc0\\\\xea\\\\xff\\\\x16')\",\n",
       " \"[2021-10-17 17:18:30,611][tsndctl.TSND151.ATR01][WARNING] - BrokenResponseMsg (response=b'\\\\x00;#\\\\x00\\\\r\\\\x14\\\\x00M\\\\xf9\\\\xff\\\\xd2\\\\xfb\\\\xff\\\\xe0')\",\n",
       " \"[2021-10-17 17:18:30,612][tsndctl.TSND151.ATR01][WARNING] - ShortResponseMsg (response=b'\\\\x9a')\",\n",
       " \"[2021-10-17 17:18:30,749][tsndctl.TSND151.ATR01][WARNING] - BrokenResponseMsg (response=b'\\\\x00\\\\x83\\\\x10\\\\x00\\\\xca\\\\xfc\\\\xff:')\",\n",
       " \"[2021-10-17 17:18:30,749][tsndctl.TSND151.ATR01][WARNING] - ShortResponseMsg (response=b'\\\\x9a')\",\n",
       " \"[2021-10-17 17:18:30,751][tsndctl.TSND151.ATR01][WARNING] - BrokenResponseMsg (response=b'\\\\x00\\\\xe9\\\\x1e\\\\x003\\\\xd8\\\\xff\\\\xd6\\\\x07\\\\x00\\\\xc8\\\\x06\\\\x00\\\\xf0')\",\n",
       " \"[2021-10-17 17:18:30,955][tsndctl.TSND151.ATR01][WARNING] - BrokenResponseMsg (response=b'\\\\x00\\\\x00\\\\xd5')\",\n",
       " \"[2021-10-17 17:18:30,957][tsndctl.TSND151.ATR01][WARNING] - BrokenResponseMsg (response=b',\\\\x00\\\\x9f')\",\n",
       " \"[2021-10-17 17:18:30,959][tsndctl.TSND151.ATR01][WARNING] - BrokenResponseMsg (response=b'\\\\x00\\\\xbd\\\\x08\\\\x00\\\\x81')\",\n",
       " \"[2021-10-17 17:18:31,173][tsndctl.TSND151.ATR01][WARNING] - BrokenResponseMsg (response=b'\\\\x00f\\\\xfc\\\\xff\\\\xfc')\",\n",
       " \"[2021-10-17 17:18:31,560][tsndctl.TSND151.ATR01][WARNING] - BrokenResponseMsg (response=b'\\\\x00\\\\x00\\\\xc5\\\\xff\\\\xff0')\",\n",
       " \"[2021-10-17 17:18:31,677][tsndctl.TSND151.ATR01][WARNING] - BrokenResponseMsg (response=b'\\\\x7f\\\\x82\\\\x03Y\\\\x00\\\\x00\\\\xb3\\\\xff\\\\xffF(\\\\x007\\\\x00\\\\x00\\\\x0f\\\\x00\\\\x00\\\\xc5\\\\xff\\\\xff\\\\x97')\",\n",
       " \"[2021-10-17 17:18:31,683][tsndctl.TSND151.ATR01][WARNING] - BrokenResponseMsg (response=b'\\\\x00\\\\x00\\\\xdc\\\\xff\\\\xff\\\\x19')\",\n",
       " \"[2021-10-17 17:18:31,997][tsndctl.TSND151.ATR01][WARNING] - BrokenResponseMsg (response=b'\\\\x00\\\\x00\\\\xe3\\\\xff\\\\xff\\\\xf9')\",\n",
       " \"[2021-10-17 17:18:32,060][tsndctl.TSND151.ATR01][WARNING] - BrokenResponseMsg (response=b'\\\\xf0\\\\xffB')\",\n",
       " \"[2021-10-17 17:18:32,063][tsndctl.TSND151.ATR01][WARNING] - BrokenResponseMsg (response=b'\\\\x00r\\\\x00\\\\x00Q\\\\x1c\\\\x00\\\\x85\\\\xfb\\\\xff\\\\x87\\\\xe4\\\\xff\\\\xcf\\\\xec\\\\xff|')\",\n",
       " '[2021-10-17 17:18:32,099][tsndctl.TSND151.ATR01][WARNING] - BrokenResponseMsg (response=b\"\\\\x00\\\\x8f\\\\xfd\\\\xff|\\'\\\\x00\\\\xbd\\\\xe7\\\\xff\\\\xef\\\\xee\\\\xff\\\\x92\\\\x0b\\\\x00\\\\x0c\")',\n",
       " '[2021-10-17 17:18:32,100][tsndctl.TSND151.ATR01][WARNING] - BrokenResponseMsg (response=b\"\\\\x00\\\\x8f\\\\xfd\\\\xff#%\\\\x00\\'\\\\xf9\\\\xff\\\\xba\\\\x13\\\\x00\\\\xaa\\\\x04\\\\x00\\\\r\")',\n",
       " \"[2021-10-17 17:18:32,275][tsndctl.TSND151.ATR01][WARNING] - BrokenResponseMsg (response=b'\\\\x00i\\\\x18\\\\x00M\\\\xfb\\\\xff\\\\xf9')\",\n",
       " \"[2021-10-17 17:18:32,278][tsndctl.TSND151.ATR01][WARNING] - BrokenResponseMsg (response=b'\\\\x00\\\\x93\\\\xfa\\\\xff\\\\x18)\\\\x00\\\\xf1\\\\x1a\\\\x00E\\\\x00\\\\x00[\\\\x05\\\\x00;')\",\n",
       " \"[2021-10-17 17:18:32,280][tsndctl.TSND151.ATR01][WARNING] - BrokenResponseMsg (response=b'\\\\x00#\\\\x00\\\\x00*#\\\\x00\\\\xac\\\\x13\\\\x001\\\\x10\\\\x00\\\\x15\\\\xfa\\\\xff\\\\xe7')\",\n",
       " \"[2021-10-17 17:18:32,281][tsndctl.TSND151.ATR01][WARNING] - BrokenResponseMsg (response=b'\\\\x00\\\\x85&\\\\x00\\\\xf6\\\\x02\\\\x006\\\\x15\\\\x00\\\\xd9\\\\xfd\\\\xff\\\\xa4')\",\n",
       " \"[2021-10-17 17:18:32,283][tsndctl.TSND151.ATR01][WARNING] - BrokenResponseMsg (response=b'\\\\x00\\\\xbe')\",\n",
       " \"[2021-10-17 17:18:32,342][tsndctl.TSND151.ATR01][WARNING] - BrokenResponseMsg (response=b'\\\\x0f\\\\x00\\\\x96\\\\xe4\\\\xff\\\\xbc')\",\n",
       " \"[2021-10-17 17:18:32,462][tsndctl.TSND151.ATR01][WARNING] - BrokenResponseMsg (response=b'\\\\x00c\\\\x02\\\\x00\\\\xc4\\\\x00\\\\x00\\\\xec')\",\n",
       " \"[2021-10-17 17:18:32,642][tsndctl.TSND151.ATR01][WARNING] - BrokenResponseMsg (response=b'\\\\xf9\\\\xffr&\\\\x00?\\\\x03\\\\x00\\\\xc2\\\\x00\\\\x00D\\\\x05\\\\x00\\\\x83')\",\n",
       " \"[2021-10-17 17:18:32,644][tsndctl.TSND151.ATR01][WARNING] - ShortResponseMsg (response=b'\\\\x9a')\",\n",
       " \"[2021-10-17 17:18:32,949][tsndctl.TSND151.ATR01][WARNING] - BrokenResponseMsg (response=b'\\\\x00\\\\xff\\\\xfe\\\\xff\\\\x19\\\\xfe\\\\xff\\\\xa9')\",\n",
       " '[2021-10-17 17:18:32,951][tsndctl.TSND151.ATR01][WARNING] - Unknown Response (response=b\"\\\\x9a\\\\x91\\\\x82\\\\x03\\\\xc7\\\\xf8\\\\xffj\\\\x00\\\\x00\\\\x0e\\'\\\\x00A\\\\x02\\\\x00W\\\\xfc\\\\xff\\\\xf7\\\\x01\\\\x00\\\\xf2\")',\n",
       " \"[2021-10-17 17:18:32,955][tsndctl.TSND151.ATR01][WARNING] - BrokenResponseMsg (response=b'\\\\x00\\\\xe1\\\\x01\\\\x00n\\\\xfe\\\\xff\\\\xaf')\",\n",
       " \"[2021-10-17 17:18:33,718][tsndctl.TSND151.ATR01][WARNING] - BrokenResponseMsg (response=b'\\\\x00\\\\xd7\\\\xfa\\\\xff_')\",\n",
       " \"[2021-10-17 17:18:33,725][tsndctl.TSND151.ATR01][WARNING] - Unknown Response (response=b'\\\\x9a\\\\xff\\\\xff\\\\xc3')\",\n",
       " \"[2021-10-17 17:18:33,727][tsndctl.TSND151.ATR01][WARNING] - Unknown Response (response=b'\\\\x9a\\\\x82\\\\x03\\\\x89\\\\xf6\\\\xffo\\\\xfc\\\\xff\\\\xd6&\\\\x00\\\\xc3\\\\xff\\\\xff\\\\xb6\\\\xff\\\\xff\\\\xdf\\\\xff\\\\xff\\\\xab')\",\n",
       " '[2021-10-17 17:18:33,727][tsndctl.TSND151.ATR01][WARNING] - Unknown Response (response=b\"\\\\x9a\\\\x82\\\\x03T\\\\xf6\\\\xff\\\\x1a\\\\xfd\\\\xff<\\'\\\\x00\\\\x88\\\\x00\\\\x001\\\\xff\\\\xff\\\\x14\\\\x00\\\\x00\\\\xcf\")',\n",
       " '[2021-10-17 17:18:33,728][tsndctl.TSND151.ATR01][WARNING] - Unknown Response (response=b\"\\\\x9a\\\\x82\\\\x03\\\\xc4\\\\xf6\\\\xffq\\\\xfc\\\\xffF\\'\\\\x00\\\\xf7\\\\xff\\\\xffm\\\\xff\\\\xff\\\\xd6\\\\xff\\\\xff\\\\xcd\")',\n",
       " \"[2021-10-17 17:18:33,728][tsndctl.TSND151.ATR01][WARNING] - Unknown Response (response=b'\\\\x9a\\\\x82\\\\x03\\\\xbf\\\\xf6\\\\xffY\\\\xfc\\\\xff\\\\xb4&\\\\x00\\\\xa1\\\\xff\\\\xff6\\\\x00\\\\x00\\\\xac\\\\xff\\\\xff;')\",\n",
       " \"[2021-10-17 17:18:33,728][tsndctl.TSND151.ATR01][WARNING] - Unknown Response (response=b'\\\\x9a\\\\x82\\\\x03`\\\\xf6\\\\xff\\\\x98\\\\xfc\\\\xff\\\\xd6&\\\\x00\\\\x8d\\\\x00\\\\x00=\\\\xff\\\\xff\\\\xf0\\\\xff\\\\xff\\\\xe3')\",\n",
       " '[2021-10-17 17:18:33,729][tsndctl.TSND151.ATR01][WARNING] - Unknown Response (response=b\"\\\\x9a\\\\x82\\\\x03\\\\xbd\\\\xf6\\\\xff\\\\xbf\\\\xfc\\\\xffy\\'\\\\x00n\\\\x00\\\\x00*\\\\xff\\\\xff\\\\xed\\\\xff\\\\xff?\")',\n",
       " '[2021-10-17 17:18:33,729][tsndctl.TSND151.ATR01][WARNING] - Unknown Response (response=b\"\\\\x9a\\\\x82\\\\x03\\\\xbf\\\\xf6\\\\xff\\\\xc2\\\\xfc\\\\xff\\\\x1d\\'\\\\x00x\\\\xff\\\\xff\\\\x04\\\\x00\\\\x00\\\\xdd\\\\xff\\\\xff\\\\x0f\")',\n",
       " \"[2021-10-17 17:18:33,738][tsndctl.TSND151.ATR01][WARNING] - BrokenResponseMsg (response=b'\\\\xa0\\\\x82\\\\x03\\\\x9f\\\\xf6\\\\xff5\\\\xfd\\\\xff\\\\xc5&\\\\x00n\\\\x00\\\\x00r\\\\x00\\\\x00')\",\n",
       " \"[2021-10-17 17:18:33,738][tsndctl.TSND151.ATR01][WARNING] - Unknown Response (response=b'\\\\x9a\\\\xff\\\\xff\\\\xf5')\",\n",
       " \"[2021-10-17 17:18:39,228][tsndctl.TSND151.ATR01][WARNING] - Unknown Response (response=b'\\\\x9a\\\\xfb\\\\xff\\\\xd8&\\\\x00\\\\xfc\\\\x00\\\\x00\\\\x9f\\\\x00\\\\x00<\\\\x00\\\\x00\\\\x0c')\",\n",
       " '[2021-10-17 17:18:59,398][tsndctl.TSND151.ATR01][INFO] - Teriminate Device[ATR01]',\n",
       " '[2021-10-17 17:19:00,196][__main__][INFO] - Success ... Connection closed.']"
      ]
     },
     "execution_count": 13,
     "metadata": {},
     "output_type": "execute_result"
    }
   ],
   "source": [
    "messages"
   ]
  },
  {
   "cell_type": "code",
   "execution_count": null,
   "id": "5470a9e9-8ee2-497d-b085-78fe709877e4",
   "metadata": {},
   "outputs": [],
   "source": []
  },
  {
   "cell_type": "code",
   "execution_count": null,
   "id": "92dec7f0-8e76-47b9-8355-b024aff033b7",
   "metadata": {},
   "outputs": [],
   "source": []
  }
 ],
 "metadata": {
  "kernelspec": {
   "display_name": "Python 3 (ipykernel)",
   "language": "python",
   "name": "python3"
  },
  "language_info": {
   "codemirror_mode": {
    "name": "ipython",
    "version": 3
   },
   "file_extension": ".py",
   "mimetype": "text/x-python",
   "name": "python",
   "nbconvert_exporter": "python",
   "pygments_lexer": "ipython3",
   "version": "3.9.7"
  }
 },
 "nbformat": 4,
 "nbformat_minor": 5
}
